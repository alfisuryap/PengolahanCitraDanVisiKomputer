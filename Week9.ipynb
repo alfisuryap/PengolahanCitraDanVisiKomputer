{
  "nbformat": 4,
  "nbformat_minor": 0,
  "metadata": {
    "colab": {
      "provenance": [],
      "authorship_tag": "ABX9TyPrIf0Hm2eA/I56j/QfahTf",
      "include_colab_link": true
    },
    "kernelspec": {
      "name": "python3",
      "display_name": "Python 3"
    },
    "language_info": {
      "name": "python"
    }
  },
  "cells": [
    {
      "cell_type": "markdown",
      "metadata": {
        "id": "view-in-github",
        "colab_type": "text"
      },
      "source": [
        "<a href=\"https://colab.research.google.com/github/alfisuryap/PengolahanCitraDanVisiKomputer/blob/main/Week9.ipynb\" target=\"_parent\"><img src=\"https://colab.research.google.com/assets/colab-badge.svg\" alt=\"Open In Colab\"/></a>"
      ]
    },
    {
      "cell_type": "markdown",
      "source": [
        "# **Jobsheet 9: Morfologi**"
      ],
      "metadata": {
        "id": "_uUBjY3D8Tzm"
      }
    },
    {
      "cell_type": "markdown",
      "source": [
        "Nama: Alfi Surya Pratama\n",
        "\n",
        "NIM: 2141720075\n",
        "\n",
        "Kelas: TI-3D\n",
        "\n",
        "Mata Kuliah: Machine Learning"
      ],
      "metadata": {
        "id": "Q7kDfvtp8Y1e"
      }
    },
    {
      "cell_type": "markdown",
      "source": [
        "## **Tugas Praktikum**"
      ],
      "metadata": {
        "id": "nt2lldDP8ZxX"
      }
    },
    {
      "cell_type": "markdown",
      "source": [
        "1. Buka https://colab.research.google.com/. Setelah dipastikan bahwa google Colab terhubung dengan Github Anda, lanjutkan dengan memilih repository yang telah digunakan pada praktikum minggu lalu, rename file menjadi “Week9.ipynb”.\n",
        "\n",
        "    Kemudian import folder yang ada di Drive Anda dengan cara sebagai berikut."
      ],
      "metadata": {
        "id": "Z1bOghDu8e7E"
      }
    },
    {
      "cell_type": "code",
      "source": [
        "from google.colab import drive\n",
        "\n",
        "drive.mount('/content/drive')"
      ],
      "metadata": {
        "colab": {
          "base_uri": "https://localhost:8080/"
        },
        "id": "zoZsfKpW8nu3",
        "outputId": "de82224c-46ba-4e32-e3cc-37ba2856a40b"
      },
      "execution_count": 1,
      "outputs": [
        {
          "output_type": "stream",
          "name": "stdout",
          "text": [
            "Mounted at /content/drive\n"
          ]
        }
      ]
    },
    {
      "cell_type": "markdown",
      "source": [
        "2.Import beberapa library berikut yang akan digunakan selama uji coba praktikum minggu ke-6 berikut."
      ],
      "metadata": {
        "id": "loObGbfv8sOX"
      }
    },
    {
      "cell_type": "code",
      "source": [
        "import cv2\n",
        "import numpy as np\n",
        "from matplotlib import pyplot as plt"
      ],
      "metadata": {
        "id": "tdny9QxE8xtb"
      },
      "execution_count": 2,
      "outputs": []
    },
    {
      "cell_type": "markdown",
      "source": [
        "3. Buatlah fungsi dilasi serta tampilkan hasil dilasi pada citra dengan *Structuring Element* Dilasi (SED) berbentuk square 5 x 5 **tanpa** menggunakan library *morphology* dari openCV, sehingga menghasilkan tampilan seperti di bawah ini: (Gunakan gambar j.png)"
      ],
      "metadata": {
        "id": "Dy6Xa36r8idX"
      }
    },
    {
      "cell_type": "markdown",
      "source": [
        "4. Buatlah fungsi erosi serta tampilkan hasil dilasi pada citra dengan *Structuring Element* Erosi (SE) berbentuk square 5 x 5 **tanpa** menggunakan library *morphology* dari openCV, sehingga menghasilkan tampilan seperti di bawah ini: (Gunakan gambar j.png)"
      ],
      "metadata": {
        "id": "Z_NOpXRM9HQV"
      }
    },
    {
      "cell_type": "markdown",
      "source": [
        "5. Buatlah program implementasi operasi dilasi *Structuring Element* Dilasi (SED) berbentuk square 5 x 5 **dengan** menggunakan library *morphology* dari openCV, sehingga menghasilkan tampilan seperti di bawah ini: (Gunakan gambar j.png)"
      ],
      "metadata": {
        "id": "njJIA5om9Q7n"
      }
    },
    {
      "cell_type": "markdown",
      "source": [
        "6. Buatlah program implementasi operasi erosi *Structuring Element* Erosi (SE) berbentuk square 5 x 5 **dengan** menggunakan library *morphology* dari openCV, sehingga menghasilkan tampilan seperti di bawah ini: (Gunakan gambar j.png)"
      ],
      "metadata": {
        "id": "CtjidraS9XK2"
      }
    },
    {
      "cell_type": "markdown",
      "source": [
        "7. Buatlah program implementasi operasi opening dengan *Structuring Element*\n",
        "berbentuk square 7 x 7 **tanpa dan dengan** menggunakan library *morphology* dari openCV, sehingga menghasilkan tampilan seperti di bawah ini: (Gunakan gambar j.png)"
      ],
      "metadata": {
        "id": "TZZDhdGc9gCS"
      }
    },
    {
      "cell_type": "markdown",
      "source": [
        "8. Buatlah program implementasi operasi closing dengan *Structuring Element*\n",
        "berbentuk square 7 x 7 **tanpa dan dengan** menggunakan library *morphology* dari openCV, sehingga menghasilkan tampilan seperti di bawah ini: (Gunakan gambar j.png)"
      ],
      "metadata": {
        "id": "AystNx9L9qPJ"
      }
    },
    {
      "cell_type": "markdown",
      "source": [
        "9. Buatlah program implementasi operasi dilasi dengan *Structuring Element* berbentuk **Cross 3 x 3 dan 5 x 5**, sehingga menghasilkan tampilan seperti di bawah ini: (Gunakan gambar j.png)"
      ],
      "metadata": {
        "id": "xIBs8aJu90Mt"
      }
    },
    {
      "cell_type": "markdown",
      "source": [
        "10. Buatlah program implementasi operasi dilasi dengan *Structuring Element* berbentuk **Circular 3 x 3 dan 5 x 5**, sehingga menghasilkan tampilan seperti di bawah ini: (Gunakan gambar j.png)"
      ],
      "metadata": {
        "id": "XRO4yT669-6o"
      }
    },
    {
      "cell_type": "markdown",
      "source": [
        "11. Buatlah program implementasi operasi erosi dengan *Structuring Element* berbentuk **Rectangle 3 x 5 dan 5 x 7**, sehingga menghasilkan tampilan seperti di bawah ini: (Gunakan gambar j.png)"
      ],
      "metadata": {
        "id": "PKZ3imEV-CRL"
      }
    },
    {
      "cell_type": "markdown",
      "source": [
        "12. Buatlah program implementasi operasi erosi dengan *Structuring Element* berbentuk **Line Vertikal 3 dan 5**, sehingga menghasilkan tampilan seperti di bawah ini: (Gunakan gambar j.png)"
      ],
      "metadata": {
        "id": "LvqKNN60-Idg"
      }
    }
  ]
}