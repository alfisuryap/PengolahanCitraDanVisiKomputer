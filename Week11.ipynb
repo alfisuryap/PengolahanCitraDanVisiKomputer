{
  "nbformat": 4,
  "nbformat_minor": 0,
  "metadata": {
    "colab": {
      "provenance": [],
      "authorship_tag": "ABX9TyMv8vFG1fWJseQZMAX4Oltk",
      "include_colab_link": true
    },
    "kernelspec": {
      "name": "python3",
      "display_name": "Python 3"
    },
    "language_info": {
      "name": "python"
    }
  },
  "cells": [
    {
      "cell_type": "markdown",
      "metadata": {
        "id": "view-in-github",
        "colab_type": "text"
      },
      "source": [
        "<a href=\"https://colab.research.google.com/github/alfisuryap/PengolahanCitraDanVisiKomputer/blob/main/Week11.ipynb\" target=\"_parent\"><img src=\"https://colab.research.google.com/assets/colab-badge.svg\" alt=\"Open In Colab\"/></a>"
      ]
    },
    {
      "cell_type": "markdown",
      "source": [
        "# **Jobsheet 11: Object Detection**"
      ],
      "metadata": {
        "id": "cwEpgI-_LVpy"
      }
    },
    {
      "cell_type": "markdown",
      "source": [
        "Nama: Alfi Surya Pratama\n",
        "\n",
        "NIM: 2141720075\n",
        "\n",
        "Kelas: TI-3D\n",
        "\n",
        "Mata Kuliah: Machine Learning"
      ],
      "metadata": {
        "id": "SlrIPxHWLljP"
      }
    },
    {
      "cell_type": "markdown",
      "source": [
        "## **Latihan Praktikum**"
      ],
      "metadata": {
        "id": "J74ggZUzLp9w"
      }
    },
    {
      "cell_type": "markdown",
      "source": [
        "1. Buka https://colab.research.google.com/. Setelah dipastikan bahwa google Colab terhubung dengan Github Anda, buat notebook baru dan beri nama“Week11.ipynb”. Kemudian import beberapa library dan akses folder yang ada di Drive Anda dengan cara sebagai berikut.\n",
        "\n",
        "    **Object Detection**\n",
        "\n",
        "    Metode yang digunakan:\n",
        "      - Template Matching\n",
        "      - Edge Detection\n",
        "      - Corner Detection\n",
        "      - Grid Detection\n",
        "      - Contour Detection"
      ],
      "metadata": {
        "id": "FRYf_6bDLt3A"
      }
    },
    {
      "cell_type": "code",
      "source": [
        "from google.colab import drive\n",
        "\n",
        "drive.mount('/content/drive')"
      ],
      "metadata": {
        "colab": {
          "base_uri": "https://localhost:8080/"
        },
        "id": "YltE0hH9L6Ju",
        "outputId": "2a3a3775-37e9-4823-f78d-9f4fbff48aff"
      },
      "execution_count": 22,
      "outputs": [
        {
          "output_type": "stream",
          "name": "stdout",
          "text": [
            "Drive already mounted at /content/drive; to attempt to forcibly remount, call drive.mount(\"/content/drive\", force_remount=True).\n"
          ]
        }
      ]
    },
    {
      "cell_type": "code",
      "source": [
        "import cv2\n",
        "import numpy as np\n",
        "from matplotlib import pyplot as plt"
      ],
      "metadata": {
        "id": "5aA3ChV2L8D3"
      },
      "execution_count": 24,
      "outputs": []
    },
    {
      "cell_type": "markdown",
      "source": [
        "2. Implementasikan 6 metode template matching pada OpenCV dengan menggunakan\n",
        "gambar cats_and_bunnies.jpg dan cat2_templatejpg.jpg sebagai templatenya.\n",
        "\n",
        "    **Template Matching**\n",
        "\n",
        "    Menggunakan library openCV:\n",
        "    \n",
        "    **cv.matchTemplate()**, dengan parameter:\n",
        "\n",
        "      - **image**: citra input\n",
        "      - **templ**: template yang dicari, ukurannya tidak boleh lebih besar dari citra input\n",
        "      - **method**: metode dari template matching\n",
        "    \n",
        "  Jenis metode template matching di OpenCV:\n",
        "      - TM_SQDIFF\n",
        "      - TM_SQDIFF_NORMED\n",
        "      - TM_CCORR\n",
        "      - TM_CCORR_NORMED\n",
        "      - TM_CCOEFF\n",
        "      - TM_CCOEFF_NORMED"
      ],
      "metadata": {
        "id": "jyqant9DL1My"
      }
    },
    {
      "cell_type": "code",
      "source": [
        "# load citra input\n",
        "img = cv.imread('/content/drive/MyDrive/College/Semester 5/Pengolahan Citra dan Visi Komputer/Data/Jobsheet 11/cats_and_bunnies.jpg')\n",
        "img_gray = cv.cvtColor(img,cv.COLOR_BGR2GRAY)\n",
        "img2 = img.copy()\n",
        "\n",
        "#load citra template\n",
        "template = cv.imread('/content/drive/MyDrive/College/Semester 5/Pengolahan Citra dan Visi Komputer/Data/Jobsheet 11/cat2_templatejpg.jpg',0)\n",
        "# dimensi citra\n",
        "w, h = template.shape[::-1]\n",
        "\n",
        "# print input image dan template\n",
        "f, axarr = plt. subplots(1,2,figsize=(15,5)) #membuat 2 plot untuk citra input dan template\n",
        "axarr[0].imshow(cv.cvtColor(img, cv.COLOR_BGR2RGB)), axarr[0].set_title(\"input image\")\n",
        "axarr[1].imshow(cv.cvtColor(template, cv.COLOR_BGR2RGB)), axarr[1].set_title(\"template image\")\n",
        "\n",
        "# All the 6 methods for comparison in a list\n",
        "methods = ['cv.TM_CCOEFF', 'cv.TM_CCOEFF_NORMED', 'cv.TM_CCORR',\n",
        "            'cv.TM_CCORR_NORMED', 'cv.TM_SQDIFF', 'cv.TM_SQDIFF_NORMED']\n",
        "\n",
        "for meth in methods:\n",
        "    img = img2.copy()\n",
        "    method = eval(meth)\n",
        "    # Apply template Matching\n",
        "    res = cv.matchTemplate(img_gray,template,method)\n",
        "    min_val, max_val, min_loc, max_loc = cv.minMaxLoc(res)\n",
        "    # If the method is TM_SQDIFF or TM_SQDIFF_NORMED, take minimum\n",
        "    if method in [cv.TM_SQDIFF, cv.TM_SQDIFF_NORMED]:\n",
        "        top_left = min_loc\n",
        "    else:\n",
        "        top_left = max_loc\n",
        "    bottom_right = (top_left[0] + w, top_left[1] + h)\n",
        "\n",
        "    cv.rectangle(img,top_left, bottom_right,(0,0,255))\n",
        "    plt.figure(figsize=(15,5))\n",
        "    plt.subplot(121),plt.imshow(res,cmap = 'gray')\n",
        "    plt.title('Matching Result'), plt.xticks([]), plt.yticks([])\n",
        "    plt.subplot(122),plt.imshow(cv.cvtColor(img, cv.COLOR_BGR2RGB))\n",
        "    plt.title('Detected Point'), plt.xticks([]), plt.yticks([])\n",
        "    print(\"\\n\\n\")\n",
        "    plt.suptitle(meth, fontsize=20)\n",
        "    plt.show()"
      ],
      "metadata": {
        "id": "dOVeHTK5ZYgt",
        "outputId": "6a95b338-9918-4a13-a8f0-239cf0b80bb8",
        "colab": {
          "base_uri": "https://localhost:8080/",
          "height": 268
        }
      },
      "execution_count": 28,
      "outputs": [
        {
          "output_type": "error",
          "ename": "NameError",
          "evalue": "ignored",
          "traceback": [
            "\u001b[0;31m---------------------------------------------------------------------------\u001b[0m",
            "\u001b[0;31mNameError\u001b[0m                                 Traceback (most recent call last)",
            "\u001b[0;32m<ipython-input-28-c77f7634699e>\u001b[0m in \u001b[0;36m<cell line: 2>\u001b[0;34m()\u001b[0m\n\u001b[1;32m      1\u001b[0m \u001b[0;31m# load citra input\u001b[0m\u001b[0;34m\u001b[0m\u001b[0;34m\u001b[0m\u001b[0m\n\u001b[0;32m----> 2\u001b[0;31m \u001b[0mimg\u001b[0m \u001b[0;34m=\u001b[0m \u001b[0mcv\u001b[0m\u001b[0;34m.\u001b[0m\u001b[0mimread\u001b[0m\u001b[0;34m(\u001b[0m\u001b[0;34m'/content/drive/MyDrive/College/Semester 5/Pengolahan Citra dan Visi Komputer/Data/Jobsheet 11/cats_and_bunnies.jpg'\u001b[0m\u001b[0;34m)\u001b[0m\u001b[0;34m\u001b[0m\u001b[0;34m\u001b[0m\u001b[0m\n\u001b[0m\u001b[1;32m      3\u001b[0m \u001b[0mimg_gray\u001b[0m \u001b[0;34m=\u001b[0m \u001b[0mcv\u001b[0m\u001b[0;34m.\u001b[0m\u001b[0mcvtColor\u001b[0m\u001b[0;34m(\u001b[0m\u001b[0mimg\u001b[0m\u001b[0;34m,\u001b[0m\u001b[0mcv\u001b[0m\u001b[0;34m.\u001b[0m\u001b[0mCOLOR_BGR2GRAY\u001b[0m\u001b[0;34m)\u001b[0m\u001b[0;34m\u001b[0m\u001b[0;34m\u001b[0m\u001b[0m\n\u001b[1;32m      4\u001b[0m \u001b[0mimg2\u001b[0m \u001b[0;34m=\u001b[0m \u001b[0mimg\u001b[0m\u001b[0;34m.\u001b[0m\u001b[0mcopy\u001b[0m\u001b[0;34m(\u001b[0m\u001b[0;34m)\u001b[0m\u001b[0;34m\u001b[0m\u001b[0;34m\u001b[0m\u001b[0m\n\u001b[1;32m      5\u001b[0m \u001b[0;34m\u001b[0m\u001b[0m\n",
            "\u001b[0;31mNameError\u001b[0m: name 'cv' is not defined"
          ]
        }
      ]
    },
    {
      "cell_type": "markdown",
      "source": [
        "3. Implementasikan konsep template matching tanpa menggunakan library OpenCV untuk multiple object, menggunakan gambar bahrain.jpg untuk citra masukan dan bahrain-template.jpg sebagai citra template, sehingga menghasilkan output sebagai berikut:"
      ],
      "metadata": {
        "id": "BNwkHbjvMr3i"
      }
    },
    {
      "cell_type": "markdown",
      "source": [
        "4. Implementasikan metode Sobel Edge Detection, Canny Edge Detection, dan Laplacian Edge Detection pada OpenCV dengan menggunakan gambar car-park.jpg, sehingga menghasilkan luaran sebagai berikut:"
      ],
      "metadata": {
        "id": "s_y22d1NNriT"
      }
    },
    {
      "cell_type": "markdown",
      "source": [
        "5. Implementasikan metode Harris Corner Detection dan Shi-Tomasi Detection pada OpenCV dengan menggunakan gambar chess-board.jpg, sehingga menghasilkan luaran sebagai berikut:"
      ],
      "metadata": {
        "id": "LXoFt7NmNuVP"
      }
    },
    {
      "cell_type": "markdown",
      "source": [
        "6. Implementasikan metode Hough Transform pada OpenCV dengan menggunakan gambar sudoku.jpg. Tahapan proses grid detection sesuai yang terdapat pada ulasan teori, sehingga menghasilkan luaran sebagai berikut:"
      ],
      "metadata": {
        "id": "n3EuSDdWNwcq"
      }
    },
    {
      "cell_type": "markdown",
      "source": [
        "7. Implementasikan fungsi findContours() pada OpenCV untuk contour detection dengan menggunakan gambar laptop.jpg, sehingga menghasilkan luaran sebagai berikut:"
      ],
      "metadata": {
        "id": "VfghW6ifN2Y3"
      }
    },
    {
      "cell_type": "markdown",
      "source": [
        "## **Pengayaan Materi KTP**"
      ],
      "metadata": {
        "id": "I_DLvZHKN88G"
      }
    },
    {
      "cell_type": "markdown",
      "source": [
        "1. Siapkan file dataset, contoh pada praktik ini menggunakan Maftuchin Tuban"
      ],
      "metadata": {
        "id": "MeDG_VJSOKh6"
      }
    },
    {
      "cell_type": "markdown",
      "source": [
        "2. Muat 2 library berikut sebagai tahapan persiapan"
      ],
      "metadata": {
        "id": "c1gkjmscOMAt"
      }
    },
    {
      "cell_type": "code",
      "source": [
        "import cv2\n",
        "import os"
      ],
      "metadata": {
        "id": "_Tnl7q1qPG84"
      },
      "execution_count": 6,
      "outputs": []
    },
    {
      "cell_type": "markdown",
      "source": [
        "3. Tambahkan kode lokalisasi dataset dan lakukan pembacaan file name di dalam direktori dataset tersebut"
      ],
      "metadata": {
        "id": "IUsgitcLOPBZ"
      }
    },
    {
      "cell_type": "code",
      "source": [
        "# Lokasi hasil pelat\n",
        "path_plate = ('/content/drive/MyDrive/College/Semester 5/Pengolahan Citra dan Visi Komputer/Data/Jobsheet 7/KTP_More')\n",
        "name_file = 'ktp3.png'\n",
        "\n",
        "# Looping file di direktori\n",
        "for name_file in sorted(os.listdir(path_plate)):\n",
        "  src = cv2.imread(os.path.join(path_plate, name_file))\n",
        "  blurred = src.copy()\n",
        "  gray = blurred.copy()"
      ],
      "metadata": {
        "id": "LzamRRfGPI3B"
      },
      "execution_count": 14,
      "outputs": []
    },
    {
      "cell_type": "markdown",
      "source": [
        "4. Masih pada looping file direktori, terapkan Gaussian Blur untuk setiap file supaya noise pickle dapat direduksi"
      ],
      "metadata": {
        "id": "CWRXVOGHOSSS"
      }
    },
    {
      "cell_type": "code",
      "source": [
        "# Filtering\n",
        "for i in range(10):\n",
        "  blurred = cv2.GaussianBlur(src, (5, 5), 0.5)"
      ],
      "metadata": {
        "id": "M8zGedxuPPXL"
      },
      "execution_count": 15,
      "outputs": []
    },
    {
      "cell_type": "markdown",
      "source": [
        "5. Lakukan konversi grayscale untuk setiap hasil citra yang tereduksi noise dan lanjutkan dengan binerisasi citra (thresholding)"
      ],
      "metadata": {
        "id": "0G7nBb5ROUX4"
      }
    },
    {
      "cell_type": "code",
      "source": [
        "# Ubah ke grayscale\n",
        "gray = cv2.cvtColor(blurred, cv2.COLOR_BGR2GRAY)\n",
        "\n",
        "ret, bw = cv2.threshold(gray.copy(), 0, 255, cv2.THRESH_BINARY + cv2.THRESH_OTSU)\n",
        "print(ret, bw.shape)"
      ],
      "metadata": {
        "id": "d9g15-xBPRbu",
        "outputId": "b6d21651-b9b7-46f2-dc8f-be802da0bbcc",
        "colab": {
          "base_uri": "https://localhost:8080/"
        }
      },
      "execution_count": 17,
      "outputs": [
        {
          "output_type": "stream",
          "name": "stdout",
          "text": [
            "160.0 (636, 996)\n"
          ]
        }
      ]
    },
    {
      "cell_type": "markdown",
      "source": [
        "6. Terapkan morfologi untuk setiap citra yang telah mengalami binerisasi supaya setiap karakter atau obyek tidak berhimpitan."
      ],
      "metadata": {
        "id": "Ertoc89xOXDw"
      }
    },
    {
      "cell_type": "markdown",
      "source": [
        "7. Terapkan ekstraksi kontur untuk untuk mendapatkan semua kontur setiap karakter/obyek. Kontur harus diseleksi berdasarkan ukuran dan rasio sebuah karakter. Karakter/obyek di dalam KTP ini bervariasi ukuran dan rasionya, sehingga setiap karakter/obyek perlu penanganan yang berbeda. Contoh pada praktik ini berfokus pada karakter yang seukuran dengan NIK. Jika hasil ekstraksi kontur memperlihatkan hasil lain yaitu karakter lain terdeteksi, hal tersebut wajar karena perlu optimize code dan preprocessing yang lebih baik (karena hasil akuisisi setiap citra dapat berbeda)."
      ],
      "metadata": {
        "id": "kqicV0goOY_w"
      }
    },
    {
      "cell_type": "markdown",
      "source": [
        "## **Tugas Praktikum**"
      ],
      "metadata": {
        "id": "oJ4J9h5gLrdY"
      }
    },
    {
      "cell_type": "markdown",
      "source": [
        "Setiap citra memiliki karakteristik yang berbeda. Terapkan praktik pada materi pengayaan KTP untuk setiap dataset KTP yang tersedia. Perhatikan kondisi awal dataset, terapkan preprocessing yang sesuai jika kualitas visual citra kurang memadai untuk segera diolah. Pengerjaan dilakukan secara berkelompok dengan aturan sebagai berikut:\n",
        "\n",
        "Kelompok 1 - KTP Riyanto Sleman\n",
        "\n",
        "Kelompok 2 - KTP Galang Raka Bengkulu\n",
        "\n",
        "Kelompok 3 - KTP Arief Wijaya Cimahi\n",
        "\n",
        "Kelompok 4 - KTP Edo Nias\n",
        "\n",
        "Kelompok 5 - KTP Widiarso Bekasi\n",
        "\n",
        "Kelompok 6 - KTP Abdurrauf Soppeng"
      ],
      "metadata": {
        "id": "Bxl6_lWhOhvX"
      }
    }
  ]
}