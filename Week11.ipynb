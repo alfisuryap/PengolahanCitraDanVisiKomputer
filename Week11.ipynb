{
  "nbformat": 4,
  "nbformat_minor": 0,
  "metadata": {
    "colab": {
      "provenance": [],
      "authorship_tag": "ABX9TyOYXe1yZp8v6biHUQVbWi0X",
      "include_colab_link": true
    },
    "kernelspec": {
      "name": "python3",
      "display_name": "Python 3"
    },
    "language_info": {
      "name": "python"
    }
  },
  "cells": [
    {
      "cell_type": "markdown",
      "metadata": {
        "id": "view-in-github",
        "colab_type": "text"
      },
      "source": [
        "<a href=\"https://colab.research.google.com/github/alfisuryap/PengolahanCitraDanVisiKomputer/blob/main/Week11.ipynb\" target=\"_parent\"><img src=\"https://colab.research.google.com/assets/colab-badge.svg\" alt=\"Open In Colab\"/></a>"
      ]
    },
    {
      "cell_type": "markdown",
      "source": [
        "# **Jobsheet 11: Object Detection**"
      ],
      "metadata": {
        "id": "cwEpgI-_LVpy"
      }
    },
    {
      "cell_type": "markdown",
      "source": [
        "Nama: Alfi Surya Pratama\n",
        "\n",
        "NIM: 2141720075\n",
        "\n",
        "Kelas: TI-3D\n",
        "\n",
        "Mata Kuliah: Machine Learning"
      ],
      "metadata": {
        "id": "SlrIPxHWLljP"
      }
    },
    {
      "cell_type": "markdown",
      "source": [
        "## **Latihan Praktikum**"
      ],
      "metadata": {
        "id": "J74ggZUzLp9w"
      }
    },
    {
      "cell_type": "markdown",
      "source": [
        "1. Buka https://colab.research.google.com/. Setelah dipastikan bahwa google Colab terhubung dengan Github Anda, buat notebook baru dan beri nama“Week11.ipynb”. Kemudian import beberapa library dan akses folder yang ada di Drive Anda dengan cara sebagai berikut.\n",
        "\n",
        "    **Object Detection**\n",
        "\n",
        "    Metode yang digunakan:\n",
        "      - Template Matching\n",
        "      - Edge Detection\n",
        "      - Corner Detection\n",
        "      - Grid Detection\n",
        "      - Contour Detection"
      ],
      "metadata": {
        "id": "FRYf_6bDLt3A"
      }
    },
    {
      "cell_type": "code",
      "source": [
        "from google.colab import drive\n",
        "\n",
        "drive.mount('/content/drive')"
      ],
      "metadata": {
        "id": "YltE0hH9L6Ju",
        "outputId": "93729d74-e222-4b9c-9ecf-756f064355bb",
        "colab": {
          "base_uri": "https://localhost:8080/"
        }
      },
      "execution_count": 1,
      "outputs": [
        {
          "output_type": "stream",
          "name": "stdout",
          "text": [
            "Mounted at /content/drive\n"
          ]
        }
      ]
    },
    {
      "cell_type": "code",
      "source": [
        "import cv2\n",
        "import numpy as np\n",
        "from matplotlib import pylot as plt"
      ],
      "metadata": {
        "id": "5aA3ChV2L8D3",
        "outputId": "7f614d34-e708-4105-f544-0413ffc63a60",
        "colab": {
          "base_uri": "https://localhost:8080/",
          "height": 375
        }
      },
      "execution_count": 2,
      "outputs": [
        {
          "output_type": "error",
          "ename": "ImportError",
          "evalue": "ignored",
          "traceback": [
            "\u001b[0;31m---------------------------------------------------------------------------\u001b[0m",
            "\u001b[0;31mImportError\u001b[0m                               Traceback (most recent call last)",
            "\u001b[0;32m<ipython-input-2-27a815342ff1>\u001b[0m in \u001b[0;36m<cell line: 3>\u001b[0;34m()\u001b[0m\n\u001b[1;32m      1\u001b[0m \u001b[0;32mimport\u001b[0m \u001b[0mcv2\u001b[0m\u001b[0;34m\u001b[0m\u001b[0;34m\u001b[0m\u001b[0m\n\u001b[1;32m      2\u001b[0m \u001b[0;32mimport\u001b[0m \u001b[0mnumpy\u001b[0m \u001b[0;32mas\u001b[0m \u001b[0mnp\u001b[0m\u001b[0;34m\u001b[0m\u001b[0;34m\u001b[0m\u001b[0m\n\u001b[0;32m----> 3\u001b[0;31m \u001b[0;32mfrom\u001b[0m \u001b[0mmatplotlib\u001b[0m \u001b[0;32mimport\u001b[0m \u001b[0mpylot\u001b[0m \u001b[0;32mas\u001b[0m \u001b[0mplt\u001b[0m\u001b[0;34m\u001b[0m\u001b[0;34m\u001b[0m\u001b[0m\n\u001b[0m",
            "\u001b[0;31mImportError\u001b[0m: cannot import name 'pylot' from 'matplotlib' (/usr/local/lib/python3.10/dist-packages/matplotlib/__init__.py)",
            "",
            "\u001b[0;31m---------------------------------------------------------------------------\u001b[0;32m\nNOTE: If your import is failing due to a missing package, you can\nmanually install dependencies using either !pip or !apt.\n\nTo view examples of installing some common dependencies, click the\n\"Open Examples\" button below.\n\u001b[0;31m---------------------------------------------------------------------------\u001b[0m\n"
          ],
          "errorDetails": {
            "actions": [
              {
                "action": "open_url",
                "actionText": "Open Examples",
                "url": "/notebooks/snippets/importing_libraries.ipynb"
              }
            ]
          }
        }
      ]
    },
    {
      "cell_type": "markdown",
      "source": [
        "2. Implementasikan 6 metode template matching pada OpenCV dengan menggunakan\n",
        "gambar cats_and_bunnies.jpg dan cat2_templatejpg.jpg sebagai templatenya.\n",
        "\n",
        "    **Template Matching**\n",
        "\n",
        "    Menggunakan library openCV:\n",
        "    \n",
        "    **cv.matchTemplate()**, dengan parameter:\n",
        "\n",
        "      - **image**: citra input\n",
        "      - **templ**: template yang dicari, ukurannya tidak boleh lebih besar dari citra input\n",
        "      - **method**: metode dari template matching\n",
        "    \n",
        "  Jenis metode template matching di OpenCV:\n",
        "      - TM_SQDIFF\n",
        "      - TM_SQDIFF_NORMED\n",
        "      - TM_CCORR\n",
        "      - TM_CCORR_NORMED\n",
        "      - TM_CCOEFF\n",
        "      - TM_CCOEFF_NORMED"
      ],
      "metadata": {
        "id": "jyqant9DL1My"
      }
    },
    {
      "cell_type": "markdown",
      "source": [
        "3. Implementasikan konsep template matching tanpa menggunakan library OpenCV untuk multiple object, menggunakan gambar bahrain.jpg untuk citra masukan dan bahrain-template.jpg sebagai citra template, sehingga menghasilkan output sebagai berikut:"
      ],
      "metadata": {
        "id": "BNwkHbjvMr3i"
      }
    },
    {
      "cell_type": "markdown",
      "source": [
        "4. Implementasikan metode Sobel Edge Detection, Canny Edge Detection, dan Laplacian Edge Detection pada OpenCV dengan menggunakan gambar car-park.jpg, sehingga menghasilkan luaran sebagai berikut:"
      ],
      "metadata": {
        "id": "s_y22d1NNriT"
      }
    },
    {
      "cell_type": "markdown",
      "source": [
        "5. Implementasikan metode Harris Corner Detection dan Shi-Tomasi Detection pada OpenCV dengan menggunakan gambar chess-board.jpg, sehingga menghasilkan luaran sebagai berikut:"
      ],
      "metadata": {
        "id": "LXoFt7NmNuVP"
      }
    },
    {
      "cell_type": "markdown",
      "source": [
        "6. Implementasikan metode Hough Transform pada OpenCV dengan menggunakan gambar sudoku.jpg. Tahapan proses grid detection sesuai yang terdapat pada ulasan teori, sehingga menghasilkan luaran sebagai berikut:"
      ],
      "metadata": {
        "id": "n3EuSDdWNwcq"
      }
    },
    {
      "cell_type": "markdown",
      "source": [
        "7. Implementasikan fungsi findContours() pada OpenCV untuk contour detection dengan menggunakan gambar laptop.jpg, sehingga menghasilkan luaran sebagai berikut:"
      ],
      "metadata": {
        "id": "VfghW6ifN2Y3"
      }
    },
    {
      "cell_type": "markdown",
      "source": [
        "## **Pengayaan Materi KTP**"
      ],
      "metadata": {
        "id": "I_DLvZHKN88G"
      }
    },
    {
      "cell_type": "markdown",
      "source": [
        "1. Siapkan file dataset, contoh pada praktik ini menggunakan Maftuchin Tuban"
      ],
      "metadata": {
        "id": "MeDG_VJSOKh6"
      }
    },
    {
      "cell_type": "markdown",
      "source": [
        "2. Muat 2 library berikut sebagai tahapan persiapan"
      ],
      "metadata": {
        "id": "c1gkjmscOMAt"
      }
    },
    {
      "cell_type": "markdown",
      "source": [
        "3. Tambahkan kode lokalisasi dataset dan lakukan pembacaan file name di dalam direktori dataset tersebut"
      ],
      "metadata": {
        "id": "IUsgitcLOPBZ"
      }
    },
    {
      "cell_type": "markdown",
      "source": [
        "4. Masih pada looping file direktori, terapkan Gaussian Blur untuk setiap file supaya noise pickle dapat direduksi"
      ],
      "metadata": {
        "id": "CWRXVOGHOSSS"
      }
    },
    {
      "cell_type": "markdown",
      "source": [
        "5. Lakukan konversi grayscale untuk setiap hasil citra yang tereduksi noise dan lanjutkan dengan binerisasi citra (thresholding)"
      ],
      "metadata": {
        "id": "0G7nBb5ROUX4"
      }
    },
    {
      "cell_type": "markdown",
      "source": [
        "6. Terapkan morfologi untuk setiap citra yang telah mengalami binerisasi supaya setiap karakter atau obyek tidak berhimpitan."
      ],
      "metadata": {
        "id": "Ertoc89xOXDw"
      }
    },
    {
      "cell_type": "markdown",
      "source": [
        "7. Terapkan ekstraksi kontur untuk untuk mendapatkan semua kontur setiap karakter/obyek. Kontur harus diseleksi berdasarkan ukuran dan rasio sebuah karakter. Karakter/obyek di dalam KTP ini bervariasi ukuran dan rasionya, sehingga setiap karakter/obyek perlu penanganan yang berbeda. Contoh pada praktik ini berfokus pada karakter yang seukuran dengan NIK. Jika hasil ekstraksi kontur memperlihatkan hasil lain yaitu karakter lain terdeteksi, hal tersebut wajar karena perlu optimize code dan preprocessing yang lebih baik (karena hasil akuisisi setiap citra dapat berbeda)."
      ],
      "metadata": {
        "id": "kqicV0goOY_w"
      }
    },
    {
      "cell_type": "markdown",
      "source": [
        "## **Tugas Praktikum**"
      ],
      "metadata": {
        "id": "oJ4J9h5gLrdY"
      }
    },
    {
      "cell_type": "markdown",
      "source": [
        "Setiap citra memiliki karakteristik yang berbeda. Terapkan praktik pada materi pengayaan KTP untuk setiap dataset KTP yang tersedia. Perhatikan kondisi awal dataset, terapkan preprocessing yang sesuai jika kualitas visual citra kurang memadai untuk segera diolah. Pengerjaan dilakukan secara berkelompok dengan aturan sebagai berikut:\n",
        "\n",
        "Kelompok 1 - KTP Riyanto Sleman\n",
        "\n",
        "Kelompok 2 - KTP Galang Raka Bengkulu\n",
        "\n",
        "Kelompok 3 - KTP Arief Wijaya Cimahi\n",
        "\n",
        "Kelompok 4 - KTP Edo Nias\n",
        "\n",
        "Kelompok 5 - KTP Widiarso Bekasi\n",
        "\n",
        "Kelompok 6 - KTP Abdurrauf Soppeng"
      ],
      "metadata": {
        "id": "Bxl6_lWhOhvX"
      }
    }
  ]
}