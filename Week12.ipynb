{
  "nbformat": 4,
  "nbformat_minor": 0,
  "metadata": {
    "colab": {
      "provenance": [],
      "authorship_tag": "ABX9TyOMoi0lyUuv8NTGHLRcdeQN",
      "include_colab_link": true
    },
    "kernelspec": {
      "name": "python3",
      "display_name": "Python 3"
    },
    "language_info": {
      "name": "python"
    }
  },
  "cells": [
    {
      "cell_type": "markdown",
      "metadata": {
        "id": "view-in-github",
        "colab_type": "text"
      },
      "source": [
        "<a href=\"https://colab.research.google.com/github/alfisuryap/PengolahanCitraDanVisiKomputer/blob/main/Week12.ipynb\" target=\"_parent\"><img src=\"https://colab.research.google.com/assets/colab-badge.svg\" alt=\"Open In Colab\"/></a>"
      ]
    },
    {
      "cell_type": "markdown",
      "source": [
        "# **Jobsheet 12: Face Detection Method**"
      ],
      "metadata": {
        "id": "IbUMqcbfsaVB"
      }
    },
    {
      "cell_type": "markdown",
      "source": [
        "Nama: Alfi Surya Pratama\n",
        "\n",
        "NIM: 2141720075\n",
        "\n",
        "Kelas: TI-3D\n",
        "\n",
        "Mata Kuliah: Pengolahan Citra dan Visi Komputer"
      ],
      "metadata": {
        "id": "PkfgYGs-sjNI"
      }
    },
    {
      "cell_type": "markdown",
      "source": [
        "## **Tugas Praktikum**"
      ],
      "metadata": {
        "id": "YaTIgfSfszkE"
      }
    },
    {
      "cell_type": "markdown",
      "source": [
        "1. Buka https://colab.research.google.com/. Setelah dipastikan bahwa google Colab terhubung dengan Github Anda, buat notebook baru dan beri nama \"Week12.ipynb\". Kemudian import beberapa library dan akses folder yang ada di Drive Anda dengan seperti biasa."
      ],
      "metadata": {
        "id": "4OJ2OFKDtDkG"
      }
    },
    {
      "cell_type": "markdown",
      "source": [
        "2. Lakukan Face Detection untuk image object lain yang tersedia pada (/images/facedet). Tampilkan seperti pada contoh berikut. Perhatikan pada hasil face detection dibawah ini. Secara keseluruhan, face detection dapat dilakukan dengan baik, bahkan untuk image berupa gambar bukan foto, wajah bermasker, atau wajah yang berukuran kecil (solvay)."
      ],
      "metadata": {
        "id": "XtcCWnoKtGl4"
      }
    },
    {
      "cell_type": "markdown",
      "source": [
        "3. Pada Soal No.2. wajah kucing tidak bisa dideteksi dengan baik. Lakukan deteksi wajah kucing hingga muncul rectangle pada bagian wajahnya seperti gambar berikut. Petunjuk pada soal ini, perhatikan pretrained features yang telah disediakan OpenCV. Gunakan xml yang ada jika memang telah disediakan. Jika belum ada, coba cari dengan searching melalui search engines."
      ],
      "metadata": {
        "id": "3FNao8X_tOri"
      }
    },
    {
      "cell_type": "markdown",
      "source": [
        "4. Cobakan juga untuk eyes detection pada gambar “Jokowi.jpg”, sehingga menghasilkan gambar seperti berikut."
      ],
      "metadata": {
        "id": "_n7dwzgvtUwW"
      }
    },
    {
      "cell_type": "markdown",
      "source": [
        "5. Lakukan Face Tracking menggunakan Google Colab. Petunjuk, Tutorial selengkapnya tentang akses kamera dan FaceDetection pada google colab dapat dilihat di link berikut: https://www.youtube.com/watch?v=YiWh7QvVH60"
      ],
      "metadata": {
        "id": "xjsGaYu-taMk"
      }
    },
    {
      "cell_type": "markdown",
      "source": [
        "6. Lakukan deteksi bagian wajah gambar “mjordan.jpg”, kemudian tindih bagian wajah tersebut dengan gambar “smile.png”. Berikut contoh keluarannya."
      ],
      "metadata": {
        "id": "73z7sLeWtebS"
      }
    },
    {
      "cell_type": "markdown",
      "source": [
        "7. Lakukan deteksi wajah dengan menggunakan bounding box berwarna hitam, deteksi mata menggunakan bounding box berwarna putih, dan deteksi mata kanan menggunakan bounding box berwarna merah. Gunakan gambar “people.jpg” untuk mengerjakan soal pada nomor ini. Berikut contoh keluarannya."
      ],
      "metadata": {
        "id": "9chd3ZNitg5q"
      }
    }
  ]
}