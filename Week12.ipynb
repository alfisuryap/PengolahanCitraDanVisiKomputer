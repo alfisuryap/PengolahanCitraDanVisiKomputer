{
  "nbformat": 4,
  "nbformat_minor": 0,
  "metadata": {
    "colab": {
      "provenance": [],
      "authorship_tag": "ABX9TyMFVpW25PBPThOSVegfcVS5",
      "include_colab_link": true
    },
    "kernelspec": {
      "name": "python3",
      "display_name": "Python 3"
    },
    "language_info": {
      "name": "python"
    }
  },
  "cells": [
    {
      "cell_type": "markdown",
      "metadata": {
        "id": "view-in-github",
        "colab_type": "text"
      },
      "source": [
        "<a href=\"https://colab.research.google.com/github/alfisuryap/PengolahanCitraDanVisiKomputer/blob/main/Week12.ipynb\" target=\"_parent\"><img src=\"https://colab.research.google.com/assets/colab-badge.svg\" alt=\"Open In Colab\"/></a>"
      ]
    },
    {
      "cell_type": "markdown",
      "source": [
        "# **Jobsheet 12: Face Detection Method**"
      ],
      "metadata": {
        "id": "IbUMqcbfsaVB"
      }
    },
    {
      "cell_type": "markdown",
      "source": [
        "Nama: Alfi Surya Pratama\n",
        "\n",
        "NIM: 2141720075\n",
        "\n",
        "Kelas: TI-3D\n",
        "\n",
        "Mata Kuliah: Pengolahan Citra dan Visi Komputer"
      ],
      "metadata": {
        "id": "PkfgYGs-sjNI"
      }
    },
    {
      "cell_type": "markdown",
      "source": [
        "## **Tugas Praktikum**"
      ],
      "metadata": {
        "id": "YaTIgfSfszkE"
      }
    },
    {
      "cell_type": "markdown",
      "source": [
        "1. Buka https://colab.research.google.com/. Setelah dipastikan bahwa google Colab terhubung dengan Github Anda, buat notebook baru dan beri nama \"Week12.ipynb\". Kemudian import beberapa library dan akses folder yang ada di Drive Anda dengan seperti biasa."
      ],
      "metadata": {
        "id": "4OJ2OFKDtDkG"
      }
    },
    {
      "cell_type": "code",
      "source": [
        "from google.colab import drive\n",
        "drive.mount('/content/drive/')"
      ],
      "metadata": {
        "id": "Lnlh9NrCcM87",
        "outputId": "11c7795e-6836-438d-e422-2f55f340ebcc",
        "colab": {
          "base_uri": "https://localhost:8080/"
        }
      },
      "execution_count": 1,
      "outputs": [
        {
          "output_type": "stream",
          "name": "stdout",
          "text": [
            "Mounted at /content/drive/\n"
          ]
        }
      ]
    },
    {
      "cell_type": "code",
      "source": [
        "import cv2 as cv\n",
        "import numpy as np\n",
        "from matplotlib import pyplot as plt"
      ],
      "metadata": {
        "id": "rtXDllt3cPnx"
      },
      "execution_count": 2,
      "outputs": []
    },
    {
      "cell_type": "markdown",
      "source": [
        "2. Lakukan Face Detection untuk image object lain yang tersedia pada (/images/facedet). Tampilkan seperti pada contoh berikut. Perhatikan pada hasil face detection dibawah ini. Secara keseluruhan, face detection dapat dilakukan dengan baik, bahkan untuk image berupa gambar bukan foto, wajah bermasker, atau wajah yang berukuran kecil (solvay)."
      ],
      "metadata": {
        "id": "XtcCWnoKtGl4"
      }
    },
    {
      "cell_type": "code",
      "source": [
        "# nomer 2 (face det)\n",
        "cascade_face = cv.CascadeClassifier('/content/drive/MyDrive/File PCVK/haarcascades/haarcascade_frontalface_alt.xml')\n",
        "\n",
        "# Jokowi\n",
        "jokowi = cv.imread('/content/drive/MyDrive/File PCVK/haarcascades/jokowi.jpg')\n",
        "jokowi1 = cv.imread('/content/drive/MyDrive/File PCVK/haarcascades/jokowi.jpg')\n",
        "roi_face1 = cascade_face.detectMultiScale(jokowi1)\n",
        "\n",
        "roi_face = cascade_face.detectMultiScale(jokowi)\n",
        "for(x,y,w,h) in roi_face:\n",
        " cv.rectangle(jokowi,(x,y),(x+w,y+h),(0,255,0),3)\n",
        "plt.figure(figsize = (10,10))\n",
        "\n",
        "f, axarr = plt. subplots(1,2,figsize=(15,5))\n",
        "plt.subplot(121),plt.imshow(cv.cvtColor(jokowi1, cv.COLOR_BGR2RGB))\n",
        "plt.title('Gambar asli Jokowi', color='darkblue')\n",
        "axarr[0].imshow(cv.cvtColor(jokowi1, cv.COLOR_BGR2RGB))\n",
        "plt.subplot(122),plt.imshow(cv.cvtColor(jokowi, cv.COLOR_BGR2RGB))\n",
        "plt.title('Gambar Face Detection', color='darkblue')\n",
        "axarr[1].imshow(cv.cvtColor(jokowi, cv.COLOR_BGR2RGB))\n",
        "plt.show()\n",
        "\n",
        "# RA.Kartini\n",
        "kartini = cv.imread('/content/drive/MyDrive/File PCVK/haarcascades/kartini.jpg')\n",
        "kartini1 = cv.imread('/content/drive/MyDrive/File PCVK/haarcascades/kartini.jpg')\n",
        "roi_face1 = cascade_face.detectMultiScale(kartini1)\n",
        "\n",
        "roi_face = cascade_face.detectMultiScale(kartini)\n",
        "for(x,y,w,h) in roi_face:\n",
        " cv.rectangle(kartini,(x,y),(x+w,y+h),(0,255,0),3)\n",
        "plt.figure(figsize = (10,10))\n",
        "\n",
        "f, axarr = plt. subplots(1,2,figsize=(15,5))\n",
        "plt.subplot(121),plt.imshow(cv.cvtColor(kartini1, cv.COLOR_BGR2RGB))\n",
        "plt.title('Gambar asli RA.Kartini', color='darkblue')\n",
        "axarr[0].imshow(cv.cvtColor(kartini1, cv.COLOR_BGR2RGB))\n",
        "plt.subplot(122),plt.imshow(cv.cvtColor(kartini, cv.COLOR_BGR2RGB))\n",
        "plt.title('Gambar Face Detection', color='darkblue')\n",
        "axarr[1].imshow(cv.cvtColor(kartini, cv.COLOR_BGR2RGB))\n",
        "plt.show()\n",
        "\n",
        "# kucing\n",
        "kucing = cv.imread('/content/drive/MyDrive/File PCVK/haarcascades/mycat.jpg')\n",
        "kucing1 = cv.imread('/content/drive/MyDrive/File PCVK/haarcascades/mycat.jpg')\n",
        "\n",
        "kucing_ori = cv.cvtColor(kucing, cv.COLOR_BGR2GRAY)\n",
        "kucing_ori1 = cv.cvtColor(kucing1, cv.COLOR_BGR2GRAY)\n",
        "\n",
        "roi_face = cascade_face.detectMultiScale(kucing1)\n",
        "for (x,y,w,h) in roi_face:\n",
        "  cv.rectangle(kucing1,(x,y),(x+w,y+h),(255,0,255),3)\n",
        "plt.figure(figsize = (10,10))\n",
        "\n",
        "f, axarr = plt. subplots(1,2,figsize=(15,5))\n",
        "plt.subplot(121),plt.imshow(kucing_ori, cmap='gray')\n",
        "plt.title('Gambar asli Kucing', color='darkblue')\n",
        "plt.subplot(122),plt.imshow(kucing_ori1, cmap='gray')\n",
        "plt.title('Gambar Face Detection', color='darkblue')\n",
        "plt.show()\n",
        "\n",
        "# cewek maskeran\n",
        "mask = cv.imread('/content/drive/MyDrive/File PCVK/haarcascades/mask.png', 0)\n",
        "mask1 = cv.imread('/content/drive/MyDrive/File PCVK/haarcascades/mask.png', 0)\n",
        "\n",
        "roi_face = cascade_face.detectMultiScale(mask1)\n",
        "for(x,y,w,h) in roi_face:\n",
        " cv.rectangle(mask1,(x,y),(x+w,y+h),(255,0,255),3)\n",
        "plt.figure(figsize = (10,10))\n",
        "\n",
        "f, axarr = plt. subplots(1,2,figsize=(15,5))\n",
        "plt.subplot(121),plt.imshow(mask, cmap='gray')\n",
        "plt.title('Gambar asli Cewek', color='darkblue')\n",
        "plt.subplot(122),plt.imshow(mask1, cmap='gray')\n",
        "plt.title('Gambar Face Detection', color='darkblue')\n",
        "plt.show()\n",
        "\n",
        "# M. Jordan\n",
        "jordan = cv.imread('/content/drive/MyDrive/File PCVK/haarcascades/mjordan.jpg', 0)\n",
        "jordan1 = cv.imread('/content/drive/MyDrive/File PCVK/haarcascades/mjordan.jpg', 0)\n",
        "\n",
        "roi_face = cascade_face.detectMultiScale(jordan1)\n",
        "for(x,y,w,h) in roi_face:\n",
        " cv.rectangle(jordan1,(x,y),(x+w,y+h),(255,0,255),3)\n",
        "plt.figure(figsize = (10,10))\n",
        "\n",
        "f, axarr = plt. subplots(1,2,figsize=(15,5))\n",
        "plt.subplot(121),plt.imshow(jordan, cmap='gray')\n",
        "plt.title('Gambar asli M.Jordan', color='darkblue')\n",
        "plt.subplot(122),plt.imshow(jordan1, cmap='gray')\n",
        "plt.title('Gambar Face Detection', color='darkblue')\n",
        "plt.show()\n",
        "\n",
        "# kelompok\n",
        "kelompok = cv.imread('/content/drive/MyDrive/File PCVK/haarcascades/solvayconf.jpg', 0)\n",
        "kelompok1 = cv.imread('/content/drive/MyDrive/File PCVK/haarcascades/solvayconf.jpg', 0)\n",
        "\n",
        "roi_face = cascade_face.detectMultiScale(kelompok1)\n",
        "for(x,y,w,h) in roi_face:\n",
        " cv.rectangle(kelompok1,(x,y),(x+w,y+h),(255,0,255),3)\n",
        "plt.figure(figsize = (10,10))\n",
        "\n",
        "f, axarr = plt. subplots(1,2,figsize=(15,5))\n",
        "plt.subplot(121),plt.imshow(kelompok, cmap='gray')\n",
        "plt.title('Gambar asli Grup', color='darkblue')\n",
        "plt.subplot(122),plt.imshow(kelompok1, cmap='gray')\n",
        "plt.title('Gambar Face Detection', color='darkblue')\n",
        "plt.show()"
      ],
      "metadata": {
        "id": "N3TmUOcccRNE"
      },
      "execution_count": null,
      "outputs": []
    },
    {
      "cell_type": "markdown",
      "source": [
        "3. Pada Soal No.2. wajah kucing tidak bisa dideteksi dengan baik. Lakukan deteksi wajah kucing hingga muncul rectangle pada bagian wajahnya seperti gambar berikut. Petunjuk pada soal ini, perhatikan pretrained features yang telah disediakan OpenCV. Gunakan xml yang ada jika memang telah disediakan. Jika belum ada, coba cari dengan searching melalui search engines."
      ],
      "metadata": {
        "id": "3FNao8X_tOri"
      }
    },
    {
      "cell_type": "markdown",
      "source": [
        "4. Cobakan juga untuk eyes detection pada gambar “Jokowi.jpg”, sehingga menghasilkan gambar seperti berikut."
      ],
      "metadata": {
        "id": "_n7dwzgvtUwW"
      }
    },
    {
      "cell_type": "markdown",
      "source": [
        "5. Lakukan Face Tracking menggunakan Google Colab. Petunjuk, Tutorial selengkapnya tentang akses kamera dan FaceDetection pada google colab dapat dilihat di link berikut: https://www.youtube.com/watch?v=YiWh7QvVH60"
      ],
      "metadata": {
        "id": "xjsGaYu-taMk"
      }
    },
    {
      "cell_type": "markdown",
      "source": [
        "6. Lakukan deteksi bagian wajah gambar “mjordan.jpg”, kemudian tindih bagian wajah tersebut dengan gambar “smile.png”. Berikut contoh keluarannya."
      ],
      "metadata": {
        "id": "73z7sLeWtebS"
      }
    },
    {
      "cell_type": "markdown",
      "source": [
        "7. Lakukan deteksi wajah dengan menggunakan bounding box berwarna hitam, deteksi mata menggunakan bounding box berwarna putih, dan deteksi mata kanan menggunakan bounding box berwarna merah. Gunakan gambar “people.jpg” untuk mengerjakan soal pada nomor ini. Berikut contoh keluarannya."
      ],
      "metadata": {
        "id": "9chd3ZNitg5q"
      }
    }
  ]
}