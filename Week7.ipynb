{
  "nbformat": 4,
  "nbformat_minor": 0,
  "metadata": {
    "colab": {
      "provenance": [],
      "authorship_tag": "ABX9TyP93VSx3bvpwmW75orTAzsh",
      "include_colab_link": true
    },
    "kernelspec": {
      "name": "python3",
      "display_name": "Python 3"
    },
    "language_info": {
      "name": "python"
    }
  },
  "cells": [
    {
      "cell_type": "markdown",
      "metadata": {
        "id": "view-in-github",
        "colab_type": "text"
      },
      "source": [
        "<a href=\"https://colab.research.google.com/github/alfisuryap/PengolahanCitraDanVisiKomputer/blob/main/Week7.ipynb\" target=\"_parent\"><img src=\"https://colab.research.google.com/assets/colab-badge.svg\" alt=\"Open In Colab\"/></a>"
      ]
    },
    {
      "cell_type": "markdown",
      "source": [
        "# **Jobsheet 7: Filter Spasial Low Pass Filter, High Pass Filter, Point Detection, Line Detection, Edge Detection**"
      ],
      "metadata": {
        "id": "2NYWtEYjwLTZ"
      }
    },
    {
      "cell_type": "markdown",
      "source": [
        "Nama: Alfi Surya Pratama\n",
        "\n",
        "NIM: 2141720075\n",
        "\n",
        "Kelas: TI-3D\n",
        "\n",
        "Mata Kuliah: Pengolahan Citra dan Visi Komputer"
      ],
      "metadata": {
        "id": "ZXCENtwCwG-C"
      }
    },
    {
      "cell_type": "markdown",
      "source": [
        "## **Praktikum**"
      ],
      "metadata": {
        "id": "aBtIYFBdy8A8"
      }
    },
    {
      "cell_type": "markdown",
      "source": [
        "1. Buatlah fungsi konvolusi menggunakan algoritma yang telah dijelaskan pada Bagian C, tanpa menggunakan library atau metode konvolusi dari OpenCV.\n",
        "\n",
        "2. Berikut merupakan langkah-langkah yang dapat dilakukan:\n",
        "\n",
        "    a. Buat notebook baru pada google colab, dan beri nama Week7.ipynb. Simpan Salinan pada akun github seperti pada modul sebelumnya.\n",
        "\n",
        "    b. Akses file yang terdapat pada drive dan import beberapa library yang dibutuhkan\n",
        "\n",
        "    ```\n",
        "    from google.colab import drive\n",
        "\n",
        "    drive.mount('/content/drive')\n",
        "    ```\n",
        "\n",
        "    ```\n",
        "    import numpy as np\n",
        "    import matplotlib.pyplot as plt\n",
        "    import cv2 as cv\n",
        "    import math\n",
        "    from google.colab.patches import cv2_imshow\n",
        "    from PIL import Image as im\n",
        "    ```\n",
        "\n",
        "    c. Buatlah fungsi konvolusi. Catatan: parameter yang digunakan boleh dimodifikasi.Misal, hanya menggunakan parameter image dan kernel saja, atau image, kernel, dan padding.\n",
        "\n",
        "    ```\n",
        "    def convolution2d(image, kernel, stride, padding):\n",
        "    ```\n",
        "\n",
        "    d. Load citra yang akan diproses dan ubah menjadi citra keabuan\n",
        "\n",
        "    ```\n",
        "    img = cv.imread('/content/drive/MyDrive/Polinema/Kuliah/PCVK/Images/female.tiff')\n",
        "    img_gray = cv.cvtColor(img,cv.COLOR_BGR2GRAY)\n",
        "    ```\n",
        "\n",
        "    e. Tentukan kernel yang akan digunakan, contohnya kernel untuk filter sharpening sebagai berikut:\n",
        "\n",
        "    ```\n",
        "    # image sharpen\n",
        "    kernel_sharpen = np.array([[0,-1,0],\n",
        "                                [-1,5,-1],\n",
        "                                [0,-1,0]])\n",
        "    ```\n",
        "    \n",
        "    f. Memanggil fungsi konvolusi yang telah dibuat sebelumnya, dan menampilkan hasil konvolusinya:\n",
        "\n",
        "    ```\n",
        "    convolution2d(img_gray, kernel_sharpen, 1, 2)\n",
        "    ```\n",
        "\n",
        "3. Buat Image Filter untuk Average filter, low pass filter, high pass filter, dan beberapa filter"
      ],
      "metadata": {
        "id": "lm17iecwy-c6"
      }
    },
    {
      "cell_type": "markdown",
      "source": [
        "### **Import Library**"
      ],
      "metadata": {
        "id": "nuI90kV_3hd3"
      }
    },
    {
      "cell_type": "code",
      "source": [
        "from google.colab import drive\n",
        "\n",
        "drive.mount('/content/drive')"
      ],
      "metadata": {
        "colab": {
          "base_uri": "https://localhost:8080/"
        },
        "id": "xv89-ZyCzfVS",
        "outputId": "4f1eeb5b-ec36-428b-b785-9180d718ae7d"
      },
      "execution_count": 1,
      "outputs": [
        {
          "output_type": "stream",
          "name": "stdout",
          "text": [
            "Mounted at /content/drive\n"
          ]
        }
      ]
    },
    {
      "cell_type": "code",
      "source": [
        "import numpy as np\n",
        "import matplotlib.pyplot as plt\n",
        "import cv2 as cv\n",
        "import math\n",
        "from google.colab.patches import cv2_imshow\n",
        "from PIL import Image as im"
      ],
      "metadata": {
        "id": "pU-SGYZM2mpi"
      },
      "execution_count": 2,
      "outputs": []
    },
    {
      "cell_type": "markdown",
      "source": [
        "### **Konvolusi tanpa Library**"
      ],
      "metadata": {
        "id": "PAhlPEUQ2ijS"
      }
    },
    {
      "cell_type": "markdown",
      "source": [
        "**Membuat fungsi konvolusi**\n",
        "\n",
        "Fungsi konvolusi yang dibuat memiliki parameter berupa:\n",
        "\n",
        "1. citra masukan,\n",
        "2. kernel berupa matriks untuk memfilter citra,\n",
        "3. nilai stride/besarnya pergeseran untuk setiap konvolusi,\n",
        "4. nilai pad yang akan ditambahkan pada citra"
      ],
      "metadata": {
        "id": "pLYXcnY-5J_U"
      }
    },
    {
      "cell_type": "code",
      "source": [
        "def convolution2d(image, kernel, stride, padding):\n",
        "    image_height, image_width = image.shape\n",
        "    kernel_height, kernel_width = kernel.shape\n",
        "\n",
        "    # Hitung dimensi dari matriks hasil\n",
        "    output_height = (image_height - kernel_height + 2 * padding) // stride + 1\n",
        "    output_width = (image_width - kernel_width + 2 * padding) // stride + 1\n",
        "\n",
        "    output = np.zeros((output_height, output_width), dtype=np.float32)\n",
        "\n",
        "    # Terapkan padding pada citra masukan\n",
        "    padded_image = np.pad(image, ((padding, padding), (padding, padding)), mode='constant')\n",
        "\n",
        "    # Lakukan konvolusi\n",
        "    for x in range(0, output_height):\n",
        "        for y in range(0, output_width):\n",
        "            # Tentukan region of interest (ROI) pada citra yang telah dipad\n",
        "            row_start = x * stride\n",
        "            row_end = row_start + kernel_height\n",
        "            col_start = y * stride\n",
        "            col_end = col_start + kernel_width\n",
        "\n",
        "            # Ekstrak ROI dari citra yang telah dipad\n",
        "            roi = padded_image[row_start:row_end, col_start:col_end]\n",
        "\n",
        "            # Lakukan konvolusi dengan perkalian elemen dan penjumlahan\n",
        "            convolution_result = np.sum(roi * kernel)\n",
        "\n",
        "            output[x, y] = convolution_result\n",
        "\n",
        "    return output"
      ],
      "metadata": {
        "id": "Uf3H-wDc5crN"
      },
      "execution_count": 5,
      "outputs": []
    },
    {
      "cell_type": "markdown",
      "source": [
        "### **Load Citra**"
      ],
      "metadata": {
        "id": "rjE1UNpj5zSp"
      }
    },
    {
      "cell_type": "code",
      "source": [
        "img = cv.imread('/content/drive/MyDrive/Semester 5/PCVK/Images/female.tiff')\n",
        "img_gray = cv.cvtColor(img, cv.COLOR_BGR2GRAY)"
      ],
      "metadata": {
        "id": "eiUk6wn1OU82"
      },
      "execution_count": null,
      "outputs": []
    },
    {
      "cell_type": "markdown",
      "source": [
        "## **Tugas**"
      ],
      "metadata": {
        "id": "hDQGpt7EUH08"
      }
    },
    {
      "cell_type": "markdown",
      "source": [
        "Diketahui dataset KTP dengan kondisi citra yang berbeda. Lakukan perbaikan melalui implementasi teknik filterisasi dan detection setiap citra. Terapkan juga histogram equalization dan operasi aritmatika sebagai Teknik pendukung perbaikan citra KTP."
      ],
      "metadata": {
        "id": "ovXEnFzfaaff"
      }
    }
  ]
}